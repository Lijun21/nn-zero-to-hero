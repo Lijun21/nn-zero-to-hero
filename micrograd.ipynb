{
 "cells": [
  {
   "cell_type": "code",
   "execution_count": 169,
   "id": "482936fd-d810-4e95-98ef-9bc7f40f8a3c",
   "metadata": {},
   "outputs": [],
   "source": [
    "import math\n",
    "import numpy as np\n",
    "import matplotlib.pyplot as plt\n",
    "%matplotlib inline"
   ]
  },
  {
   "cell_type": "code",
   "execution_count": 2,
   "id": "f17e6642-305f-435c-8c23-ef7d83e27188",
   "metadata": {},
   "outputs": [],
   "source": [
    "def f(x):\n",
    "    return 3*x**2 - 4*x + 5"
   ]
  },
  {
   "cell_type": "code",
   "execution_count": 3,
   "id": "2e9f0238-df53-4506-a9c4-5d2728387976",
   "metadata": {},
   "outputs": [
    {
     "data": {
      "text/plain": [
       "20.0"
      ]
     },
     "execution_count": 3,
     "metadata": {},
     "output_type": "execute_result"
    }
   ],
   "source": [
    "f(3.0)"
   ]
  },
  {
   "cell_type": "code",
   "execution_count": 8,
   "id": "0f480bca-e7e5-4cf9-9c89-fba8e8c18981",
   "metadata": {},
   "outputs": [
    {
     "data": {
      "text/plain": [
       "array([-5.  , -4.75, -4.5 , -4.25, -4.  , -3.75, -3.5 , -3.25, -3.  ,\n",
       "       -2.75, -2.5 , -2.25, -2.  , -1.75, -1.5 , -1.25, -1.  , -0.75,\n",
       "       -0.5 , -0.25,  0.  ,  0.25,  0.5 ,  0.75,  1.  ,  1.25,  1.5 ,\n",
       "        1.75,  2.  ,  2.25,  2.5 ,  2.75,  3.  ,  3.25,  3.5 ,  3.75,\n",
       "        4.  ,  4.25,  4.5 ,  4.75])"
      ]
     },
     "execution_count": 8,
     "metadata": {},
     "output_type": "execute_result"
    }
   ],
   "source": [
    "xs = np.arange(-5, 5, 0.25)\n",
    "xs"
   ]
  },
  {
   "cell_type": "code",
   "execution_count": 10,
   "id": "598ba325-8905-441c-bd51-b4068dc30335",
   "metadata": {},
   "outputs": [
    {
     "data": {
      "text/plain": [
       "array([100.    ,  91.6875,  83.75  ,  76.1875,  69.    ,  62.1875,\n",
       "        55.75  ,  49.6875,  44.    ,  38.6875,  33.75  ,  29.1875,\n",
       "        25.    ,  21.1875,  17.75  ,  14.6875,  12.    ,   9.6875,\n",
       "         7.75  ,   6.1875,   5.    ,   4.1875,   3.75  ,   3.6875,\n",
       "         4.    ,   4.6875,   5.75  ,   7.1875,   9.    ,  11.1875,\n",
       "        13.75  ,  16.6875,  20.    ,  23.6875,  27.75  ,  32.1875,\n",
       "        37.    ,  42.1875,  47.75  ,  53.6875])"
      ]
     },
     "execution_count": 10,
     "metadata": {},
     "output_type": "execute_result"
    }
   ],
   "source": [
    "ys = f(xs)\n",
    "ys"
   ]
  },
  {
   "cell_type": "code",
   "execution_count": 11,
   "id": "92fff311-1afd-45cd-b8f0-a682687a3432",
   "metadata": {},
   "outputs": [
    {
     "data": {
      "text/plain": [
       "[<matplotlib.lines.Line2D at 0x121a2c790>]"
      ]
     },
     "execution_count": 11,
     "metadata": {},
     "output_type": "execute_result"
    },
    {
     "data": {
      "image/png": "[encoded data removed]",
      "text/plain": [
       "<Figure size 640x480 with 1 Axes>"
      ]
     },
     "metadata": {},
     "output_type": "display_data"
    }
   ],
   "source": [
    "plt.plot(xs, ys)"
   ]
  },
  {
   "cell_type": "code",
   "execution_count": 17,
   "id": "d9223e7f-b478-4cd5-b2a4-06892dd45504",
   "metadata": {},
   "outputs": [
    {
     "data": {
      "text/plain": [
       "20.014003000000002"
      ]
     },
     "execution_count": 17,
     "metadata": {},
     "output_type": "execute_result"
    }
   ],
   "source": [
    "h = 0.001\n",
    "x = 3.0\n",
    "f(x+h)"
   ]
  },
  {
   "cell_type": "code",
   "execution_count": 18,
   "id": "cd1e7f9b-c2b2-4fde-9bfb-729f2c70200c",
   "metadata": {},
   "outputs": [
    {
     "data": {
      "text/plain": [
       "14.00300000000243"
      ]
     },
     "execution_count": 18,
     "metadata": {},
     "output_type": "execute_result"
    }
   ],
   "source": [
    "(f(x+h) - f(x))/h"
   ]
  },
  {
   "cell_type": "code",
   "execution_count": 20,
   "id": "9c88591b-5039-4590-9a7e-fa5b47037086",
   "metadata": {},
   "outputs": [
    {
     "data": {
      "text/plain": [
       "-21.996999999998934"
      ]
     },
     "execution_count": 20,
     "metadata": {},
     "output_type": "execute_result"
    }
   ],
   "source": [
    "h = 0.001\n",
    "x = -3\n",
    "(f(x+h) - f(x))/h"
   ]
  },
  {
   "cell_type": "code",
   "execution_count": 22,
   "id": "13d9c38b-9514-4c3f-9646-1075f585c39e",
   "metadata": {},
   "outputs": [
    {
     "data": {
      "text/plain": [
       "0.0"
      ]
     },
     "execution_count": 22,
     "metadata": {},
     "output_type": "execute_result"
    }
   ],
   "source": [
    "h = 0.00000001\n",
    "x = 2/3\n",
    "(f(x+h) - f(x))/h"
   ]
  },
  {
   "cell_type": "code",
   "execution_count": 23,
   "id": "a487c55a-11b7-4738-bf86-46222cff3872",
   "metadata": {},
   "outputs": [
    {
     "data": {
      "text/plain": [
       "2.9753977059954195e-07"
      ]
     },
     "execution_count": 23,
     "metadata": {},
     "output_type": "execute_result"
    }
   ],
   "source": [
    "h = 0.0000001\n",
    "x = 2/3\n",
    "(f(x+h) - f(x))/h"
   ]
  },
  {
   "cell_type": "code",
   "execution_count": 24,
   "id": "e32201f1-cd97-4722-a4de-19ba291287d3",
   "metadata": {},
   "outputs": [],
   "source": [
    "#let get more complex "
   ]
  },
  {
   "cell_type": "code",
   "execution_count": 1,
   "id": "16cacf09-d43d-4524-b162-4880d8058046",
   "metadata": {},
   "outputs": [
    {
     "name": "stdout",
     "output_type": "stream",
     "text": [
      "d1 4.0\n",
      "d2 3.999699999999999\n",
      "slope -3.000000000010772\n"
     ]
    }
   ],
   "source": [
    "h = 0.0001\n",
    "\n",
    "# 3 inputs a, b, c, how result d changes with repest of  \n",
    "a = 2.0\n",
    "b=-3.0\n",
    "c = 10.0\n",
    "\n",
    "d1 = a*b + c\n",
    "a += h\n",
    "d2 = a*b +c \n",
    "\n",
    "print ('d1', d1)\n",
    "print ('d2', d2)\n",
    "print ('slope', (d2 - d1)/ h)"
   ]
  },
  {
   "cell_type": "code",
   "execution_count": 4,
   "id": "e25f6437-e1fc-42e0-a812-878f59c29f98",
   "metadata": {},
   "outputs": [
    {
     "name": "stdout",
     "output_type": "stream",
     "text": [
      "d1 4.0001\n",
      "d2 4.0003\n",
      "slope 2.0000000000042206\n"
     ]
    }
   ],
   "source": [
    "# 3 inputs a, b, c, how result d changes with repest of b\n",
    "\n",
    "d1 = a*b + c\n",
    "b += h\n",
    "d2 = a*b +c \n",
    "\n",
    "print ('d1', d1)\n",
    "print ('d2', d2)\n",
    "print ('slope', (d2 - d1)/ h)"
   ]
  },
  {
   "cell_type": "code",
   "execution_count": 5,
   "id": "1da0b157-1661-45cb-bafc-74a8d46f37f7",
   "metadata": {},
   "outputs": [
    {
     "name": "stdout",
     "output_type": "stream",
     "text": [
      "d1 4.0003\n",
      "d2 4.0004\n",
      "slope 0.9999999999976694\n"
     ]
    }
   ],
   "source": [
    "# 3 inputs a, b, c, how result d changes with repest of c\n",
    "\n",
    "d1 = a*b + c\n",
    "c += h\n",
    "d2 = a*b +c \n",
    "\n",
    "print ('d1', d1)\n",
    "print ('d2', d2)\n",
    "print ('slope', (d2 - d1)/ h)"
   ]
  },
  {
   "cell_type": "code",
   "execution_count": null,
   "id": "7b987aa7-4a19-4483-8581-f8d4492641a5",
   "metadata": {},
   "outputs": [],
   "source": [
    "# neural network -> python data structure to maintain the mathematical NN expression "
   ]
  },
  {
   "cell_type": "code",
   "execution_count": 40,
   "id": "3b38e7f9-72aa-468a-a364-b1a5fa9bdd86",
   "metadata": {},
   "outputs": [
    {
     "data": {
      "text/plain": [
       "Value(data=2.0)"
      ]
     },
     "execution_count": 40,
     "metadata": {},
     "output_type": "execute_result"
    }
   ],
   "source": [
    "class Value:\n",
    "    def __init__(self, data):\n",
    "        self.data = data\n",
    "    def __repr__(self):\n",
    "        return f\"Value(data={self.data})\" # provide a nicer looking of the BOX class, what's inside\n",
    "    def __add__(self, other):\n",
    "        return Value(self.data + other.data)\n",
    "    def __mul__(self, other):\n",
    "        return Value(self.data*other.data)\n",
    "\n",
    "a = Value(2.0) \n",
    "a"
   ]
  },
  {
   "cell_type": "code",
   "execution_count": null,
   "id": "26905543-2c7e-4668-a5c5-7b023246038f",
   "metadata": {},
   "outputs": [],
   "source": [
    "#python double underscore special methods, reserved"
   ]
  },
  {
   "cell_type": "code",
   "execution_count": 14,
   "id": "d04ba079-2b65-4a4f-9a0c-b45365c2007e",
   "metadata": {},
   "outputs": [
    {
     "name": "stdout",
     "output_type": "stream",
     "text": [
      "Value is 10\n"
     ]
    }
   ],
   "source": [
    "class MyClass:\n",
    "    def __init__(self, value):\n",
    "        self.value = value\n",
    "    def __repr__(self):\n",
    "        return f\"MyClass(value={self.value})\"\n",
    "    def __str__(self):\n",
    "        return f\"Value is {self.value}\"\n",
    "obj = MyClass(10)\n",
    "print(obj)  # Calls __repr__\n"
   ]
  },
  {
   "cell_type": "code",
   "execution_count": 15,
   "id": "b25dca23-b6ed-480d-a7f8-8b3f89e3969c",
   "metadata": {},
   "outputs": [
    {
     "name": "stdout",
     "output_type": "stream",
     "text": [
      "3\n"
     ]
    }
   ],
   "source": [
    "class MyClass:\n",
    "    def __init__(self, items):\n",
    "        self.items = items\n",
    "    def __len__(self):\n",
    "        return len(self.items)\n",
    "obj = MyClass([1, 2, 3])\n",
    "print(len(obj))  # Calls __len__"
   ]
  },
  {
   "cell_type": "code",
   "execution_count": null,
   "id": "9e428ade-888a-4466-95c4-e41cbd813d2c",
   "metadata": {},
   "outputs": [],
   "source": [
    "class MyClass:\n",
    "    def __init__(self, value):\n",
    "        self.value = value\n",
    "    def __add__(self, other):\n",
    "        return MyClass(self.value + other.value) # this + here is a typical 2 floting point addition \n",
    "obj1 = MyClass(10)\n",
    "obj2 = MyClass(5)\n",
    "obj3 = obj1 + obj2  # Calls __add__\n",
    "print(obj3.value)  # Output: 15"
   ]
  },
  {
   "cell_type": "code",
   "execution_count": null,
   "id": "4847b7c4-e029-4eae-9d01-01e9bb3bf9bc",
   "metadata": {},
   "outputs": [],
   "source": [
    "# finish"
   ]
  },
  {
   "cell_type": "code",
   "execution_count": 20,
   "id": "b1b945d2-bfe4-473c-8d46-eb2a85353f26",
   "metadata": {},
   "outputs": [
    {
     "data": {
      "text/plain": [
       "Value(data=-3.0)"
      ]
     },
     "execution_count": 20,
     "metadata": {},
     "output_type": "execute_result"
    }
   ],
   "source": [
    "b = Value(-3.0);\n",
    "b"
   ]
  },
  {
   "cell_type": "code",
   "execution_count": 30,
   "id": "3b8cc490-d83f-4a49-894c-2ef64e223735",
   "metadata": {},
   "outputs": [
    {
     "data": {
      "text/plain": [
       "Value(data=-1.0)"
      ]
     },
     "execution_count": 30,
     "metadata": {},
     "output_type": "execute_result"
    }
   ],
   "source": [
    "a + b \n",
    "# internally, python would call a.__add__(b), the + here is a python symbol, two object addtion \n"
   ]
  },
  {
   "cell_type": "code",
   "execution_count": 35,
   "id": "d87e63fa-681f-4420-8243-5d5df1f06290",
   "metadata": {},
   "outputs": [
    {
     "data": {
      "text/plain": [
       "Value(data=-6.0)"
      ]
     },
     "execution_count": 35,
     "metadata": {},
     "output_type": "execute_result"
    }
   ],
   "source": [
    "a*b\n",
    "# internally, python would call a.__mul__(b)"
   ]
  },
  {
   "cell_type": "code",
   "execution_count": 51,
   "id": "00201f45-9f07-433e-aa3b-00eb257c1a6c",
   "metadata": {},
   "outputs": [
    {
     "data": {
      "text/plain": [
       "Value(data=4.0)"
      ]
     },
     "execution_count": 51,
     "metadata": {},
     "output_type": "execute_result"
    }
   ],
   "source": [
    "c = Value(10.0)\n",
    "a*b + c "
   ]
  },
  {
   "cell_type": "code",
   "execution_count": 54,
   "id": "84fb476b-5257-4977-ad48-d87f7ff5b13c",
   "metadata": {},
   "outputs": [
    {
     "data": {
      "text/plain": [
       "Value(data=4.0)"
      ]
     },
     "execution_count": 54,
     "metadata": {},
     "output_type": "execute_result"
    }
   ],
   "source": [
    "d = a*b + c\n",
    "# internally, d = (a.__mul(b)).__add(c)\n",
    "d"
   ]
  },
  {
   "cell_type": "code",
   "execution_count": null,
   "id": "ec93bb30-9538-4d7c-9326-1fdf1aa214a8",
   "metadata": {},
   "outputs": [],
   "source": [
    "#Now what we are missing is the connected tissue of this expression, we want to keep these expression graphs, \n",
    "#we need to keep pointers about what values produce what other values, now update the data structure "
   ]
  },
  {
   "cell_type": "code",
   "execution_count": 143,
   "id": "8aea7195-91d8-44ef-8de8-8cc2a33c634b",
   "metadata": {},
   "outputs": [
    {
     "name": "stdout",
     "output_type": "stream",
     "text": [
      "{Value(data=10.0), Value(data=-6.0)} +\n"
     ]
    }
   ],
   "source": [
    "class Value:\n",
    "    def __init__(self, data, _operands=(), _operator='', label = ''):\n",
    "        self.data = data\n",
    "        self._prev = set(_operands) # object involed with self in an operation, __children are objects participated in the operations\n",
    "        self._op = _operator\n",
    "        self.label = label\n",
    "        self.grad = 0.0\n",
    "    def __repr__(self):\n",
    "        return f\"Value(data={self.data})\" # provide a nicer looking of the BOX class, what's inside\n",
    "    def __add__(self, other):\n",
    "        return Value(self.data + other.data, (self, other), '+')\n",
    "    def __mul__(self, other):\n",
    "        return Value(self.data*other.data, (self, other), '*')\n",
    "\n",
    "a = Value(2.0, label = 'a') \n",
    "b = Value(-3.0, label = 'b')\n",
    "c = Value(10.0, label = 'c')\n",
    "e = a*b; e.label = 'e'\n",
    "d = e + c; d.label = 'd'\n",
    "d\n",
    "print(d._prev, d._op)\n",
    "\n"
   ]
  },
  {
   "cell_type": "code",
   "execution_count": 144,
   "id": "bc824b3e-e5f7-4a96-8465-a505f8c35606",
   "metadata": {},
   "outputs": [
    {
     "data": {
      "text/plain": [
       "Value(data=-8.0)"
      ]
     },
     "execution_count": 144,
     "metadata": {},
     "output_type": "execute_result"
    }
   ],
   "source": [
    "#make it one layer deeper \n",
    "f = Value(-2.0); f.label = 'f'\n",
    "L = d * f; L.label = 'L'\n",
    "L"
   ]
  },
  {
   "cell_type": "code",
   "execution_count": 80,
   "id": "0405672f-d7fd-4b76-b725-f08e19faebb1",
   "metadata": {},
   "outputs": [
    {
     "data": {
      "text/plain": [
       "'+'"
      ]
     },
     "execution_count": 80,
     "metadata": {},
     "output_type": "execute_result"
    }
   ],
   "source": [
    "d._op"
   ]
  },
  {
   "cell_type": "code",
   "execution_count": 79,
   "id": "fca6df39-2013-4316-983c-84e5e991f656",
   "metadata": {},
   "outputs": [
    {
     "data": {
      "text/plain": [
       "{Value(data=-6.0), Value(data=10.0)}"
      ]
     },
     "execution_count": 79,
     "metadata": {},
     "output_type": "execute_result"
    }
   ],
   "source": [
    "d._prev"
   ]
  },
  {
   "cell_type": "code",
   "execution_count": 85,
   "id": "b1dc6248-eeae-4463-87c2-513f068ac67b",
   "metadata": {},
   "outputs": [
    {
     "data": {
      "text/plain": [
       "{Value(data=-6.0), Value(data=10.0)}"
      ]
     },
     "execution_count": 85,
     "metadata": {},
     "output_type": "execute_result"
    }
   ],
   "source": [
    "d._op\n",
    "d._prev  # why only print out one, instead of two?"
   ]
  },
  {
   "cell_type": "code",
   "execution_count": 82,
   "id": "a2c59d09-2dcd-4391-8245-81aa727f95a3",
   "metadata": {
    "collapsed": true,
    "jupyter": {
     "outputs_hidden": true,
     "source_hidden": true
    }
   },
   "outputs": [
    {
     "ename": "SyntaxError",
     "evalue": "invalid syntax (842462376.py, line 1)",
     "output_type": "error",
     "traceback": [
      "\u001b[0;36m  Cell \u001b[0;32mIn[82], line 1\u001b[0;36m\u001b[0m\n\u001b[0;31m    In a Jupyter cell, only the last bare expression is displayed. So:\u001b[0m\n\u001b[0m       ^\u001b[0m\n\u001b[0;31mSyntaxError\u001b[0m\u001b[0;31m:\u001b[0m invalid syntax\n"
     ]
    }
   ],
   "source": [
    "# here is the answer \n",
    "In a Jupyter cell, only the last bare expression is displayed. So:\n",
    "\n",
    "python\n",
    "Copy\n",
    "Edit\n",
    "d._op\n",
    "d._prev\n",
    "will only show d._prev. To see both, either:\n",
    "\n",
    "python\n",
    "Copy\n",
    "Edit\n",
    "print(d._op)\n",
    "print(d._prev)\n",
    "# or\n",
    "d._op, d._prev      # returns a tuple so the single “last value” is that tuple\n",
    "# or\n",
    "{\"op\": d._op, \"prev\": d._prev}\n",
    "In a regular .py script, neither line would print anything unless you use print()."
   ]
  },
  {
   "cell_type": "code",
   "execution_count": 72,
   "id": "96070f77-bbdb-4d0d-b94d-464552a2e07f",
   "metadata": {},
   "outputs": [
    {
     "name": "stdout",
     "output_type": "stream",
     "text": [
      "Value\n",
      "__main__\n",
      "{'__module__': '__main__', '__init__': <function Value.__init__ at 0x112acf280>, '__repr__': <function Value.__repr__ at 0x112acf310>, '__add__': <function Value.__add__ at 0x112acf3a0>, '__mul__': <function Value.__mul__ at 0x112acf430>, '__dict__': <attribute '__dict__' of 'Value' objects>, '__weakref__': <attribute '__weakref__' of 'Value' objects>, '__doc__': None}\n",
      "(<class 'object'>,)\n"
     ]
    }
   ],
   "source": [
    "print(Value.__name__)\n",
    "print(Value.__module__)\n",
    "print(Value.__dict__)\n",
    "print(Value.__bases__)"
   ]
  },
  {
   "cell_type": "code",
   "execution_count": 74,
   "id": "f8ba7a78-3db6-4ca9-ab5e-2162ba035532",
   "metadata": {
    "collapsed": true,
    "jupyter": {
     "outputs_hidden": true,
     "source_hidden": true
    }
   },
   "outputs": [
    {
     "ename": "SyntaxError",
     "evalue": "invalid syntax (1617303727.py, line 1)",
     "output_type": "error",
     "traceback": [
      "\u001b[0;36m  Cell \u001b[0;32mIn[74], line 1\u001b[0;36m\u001b[0m\n\u001b[0;31m    Every user-defined class in Python automatically gets a bunch of built-ins—some created for the class object itself, and many inherited from object. You can use them before defining anything extra.\u001b[0m\n\u001b[0m          ^\u001b[0m\n\u001b[0;31mSyntaxError\u001b[0m\u001b[0;31m:\u001b[0m invalid syntax\n"
     ]
    }
   ],
   "source": [
    "# indepth of python Class object \n",
    "Every user-defined class in Python automatically gets a bunch of built-ins—some created for the class object itself, and many inherited from object. You can use them before defining anything extra.\n",
    "\n",
    "Class-level (on the class itself)\n",
    "Common attributes Python adds when you do class Foo: ...:\n",
    "\n",
    "Foo.__name__ – the class’s name (\"Foo\").\n",
    "\n",
    "Foo.__qualname__ – qualified name (useful for nested classes).\n",
    "\n",
    "Foo.__module__ – module where it was defined.\n",
    "\n",
    "Foo.__doc__ – the class docstring (or None).\n",
    "\n",
    "Foo.__dict__ – mapping of the class namespace (methods, attrs).\n",
    "\n",
    "Foo.__annotations__ – type hints dict (if any).\n",
    "\n",
    "Foo.__mro__ – method resolution order (tuple of bases to search).\n",
    "\n",
    "Foo.__bases__ – base classes.\n",
    "\n",
    "Foo.__subclasses__() – current subclasses of Foo.\n",
    "\n",
    "Foo.__init_subclass__ – hook called when subclassing Foo.\n",
    "\n",
    "Foo.__class__ – the metaclass (usually type).\n",
    "\n",
    "Instance-level (on objects of the class)\n",
    "Even if you don’t define anything, instances inherit default behavior from object:\n",
    "\n",
    "obj.__class__ – the instance’s class.\n",
    "\n",
    "obj.__dict__ – per-instance attribute storage (unless you use __slots__).\n",
    "\n",
    "obj.__repr__(), obj.__str__() – default string displays (the “<Foo object at 0x…>” form).\n",
    "\n",
    "obj.__eq__(), obj.__ne__(), obj.__hash__() – identity-based equality/hash by default.\n",
    "\n",
    "obj.__getattribute__(), obj.__setattr__(), obj.__delattr__() – attribute access mechanics.\n",
    "\n",
    "obj.__dir__() – names shown by dir(obj).\n",
    "\n",
    "obj.__sizeof__(), obj.__reduce__()/__reduce_ex__() – memory/pickling helpers.\n",
    "\n",
    "Note: If you define __slots__, instances typically won’t have __dict__ unless you explicitly include \"__dict__\" in __slots__. Similarly for weakrefs with \"__weakref__\"."
   ]
  },
  {
   "cell_type": "code",
   "execution_count": 89,
   "id": "ecc1338f-d187-4d44-8c60-6c8cc8c6e1c4",
   "metadata": {
    "collapsed": true,
    "jupyter": {
     "outputs_hidden": true,
     "source_hidden": true
    }
   },
   "outputs": [
    {
     "name": "stdout",
     "output_type": "stream",
     "text": [
      "Kernel Python: /Library/Developer/CommandLineTools/usr/bin/python3\n",
      "Defaulting to user installation because normal site-packages is not writeable\n",
      "Collecting graphviz\n",
      "  Downloading graphviz-0.21-py3-none-any.whl.metadata (12 kB)\n",
      "Downloading graphviz-0.21-py3-none-any.whl (47 kB)\n",
      "Installing collected packages: graphviz\n",
      "Successfully installed graphviz-0.21\n"
     ]
    }
   ],
   "source": [
    "import sys\n",
    "print(\"Kernel Python:\", sys.executable)           # sanity check\n",
    "!{sys.executable} -m pip install -U graphviz"
   ]
  },
  {
   "cell_type": "code",
   "execution_count": 90,
   "id": "2e3072ed-bc75-4f08-83f5-41de35477237",
   "metadata": {
    "collapsed": true,
    "jupyter": {
     "outputs_hidden": true
    }
   },
   "outputs": [
    {
     "data": {
      "image/svg+xml": [
       "<?xml version=\"1.0\" encoding=\"UTF-8\" standalone=\"no\"?>\n",
       "<!DOCTYPE svg PUBLIC \"-//W3C//DTD SVG 1.1//EN\"\n",
       " \"http://www.w3.org/Graphics/SVG/1.1/DTD/svg11.dtd\">\n",
       "<!-- Generated by graphviz version 13.1.2 (20250808.2320)\n",
       " -->\n",
       "<!-- Pages: 1 -->\n",
       "<svg width=\"62pt\" height=\"188pt\"\n",
       " viewBox=\"0.00 0.00 62.00 188.00\" xmlns=\"http://www.w3.org/2000/svg\" xmlns:xlink=\"http://www.w3.org/1999/xlink\">\n",
       "<g id=\"graph0\" class=\"graph\" transform=\"scale(1 1) rotate(0) translate(4 184)\">\n",
       "<polygon fill=\"white\" stroke=\"none\" points=\"-4,4 -4,-184 58,-184 58,4 -4,4\"/>\n",
       "<!-- A -->\n",
       "<g id=\"node1\" class=\"node\">\n",
       "<title>A</title>\n",
       "<ellipse fill=\"none\" stroke=\"black\" cx=\"27\" cy=\"-162\" rx=\"27\" ry=\"18\"/>\n",
       "<text xml:space=\"preserve\" text-anchor=\"middle\" x=\"27\" y=\"-156.95\" font-family=\"Times,serif\" font-size=\"14.00\">A</text>\n",
       "</g>\n",
       "<!-- B -->\n",
       "<g id=\"node2\" class=\"node\">\n",
       "<title>B</title>\n",
       "<ellipse fill=\"none\" stroke=\"black\" cx=\"27\" cy=\"-90\" rx=\"27\" ry=\"18\"/>\n",
       "<text xml:space=\"preserve\" text-anchor=\"middle\" x=\"27\" y=\"-84.95\" font-family=\"Times,serif\" font-size=\"14.00\">B</text>\n",
       "</g>\n",
       "<!-- A&#45;&gt;B -->\n",
       "<g id=\"edge1\" class=\"edge\">\n",
       "<title>A&#45;&gt;B</title>\n",
       "<path fill=\"none\" stroke=\"black\" d=\"M27,-143.7C27,-136.41 27,-127.73 27,-119.54\"/>\n",
       "<polygon fill=\"black\" stroke=\"black\" points=\"30.5,-119.62 27,-109.62 23.5,-119.62 30.5,-119.62\"/>\n",
       "</g>\n",
       "<!-- C -->\n",
       "<g id=\"node3\" class=\"node\">\n",
       "<title>C</title>\n",
       "<ellipse fill=\"none\" stroke=\"black\" cx=\"27\" cy=\"-18\" rx=\"27\" ry=\"18\"/>\n",
       "<text xml:space=\"preserve\" text-anchor=\"middle\" x=\"27\" y=\"-12.95\" font-family=\"Times,serif\" font-size=\"14.00\">C</text>\n",
       "</g>\n",
       "<!-- B&#45;&gt;C -->\n",
       "<g id=\"edge2\" class=\"edge\">\n",
       "<title>B&#45;&gt;C</title>\n",
       "<path fill=\"none\" stroke=\"black\" d=\"M27,-71.7C27,-64.41 27,-55.73 27,-47.54\"/>\n",
       "<polygon fill=\"black\" stroke=\"black\" points=\"30.5,-47.62 27,-37.62 23.5,-47.62 30.5,-47.62\"/>\n",
       "</g>\n",
       "</g>\n",
       "</svg>\n"
      ],
      "text/plain": [
       "<graphviz.graphs.Digraph at 0x112b22130>"
      ]
     },
     "execution_count": 90,
     "metadata": {},
     "output_type": "execute_result"
    }
   ],
   "source": [
    "from graphviz import Digraph\n",
    "g = Digraph(format=\"svg\")\n",
    "g.edge(\"A\",\"B\"); g.edge(\"B\",\"C\")\n",
    "g  # should display inline in Jupyter"
   ]
  },
  {
   "cell_type": "code",
   "execution_count": 137,
   "id": "ad87088d-954f-48df-ac13-e301c1732076",
   "metadata": {
    "scrolled": true
   },
   "outputs": [],
   "source": [
    "# graphviz open source, to nicely vitualize \n",
    "\n",
    "from graphviz import Digraph\n",
    "\n",
    "def trace(root):\n",
    "  # builds a set of all nodes and edges in a graph\n",
    "  nodes, edges = set(), set()\n",
    "  def build(v):\n",
    "    if v not in nodes:\n",
    "      nodes.add(v)\n",
    "      for child in v._prev:\n",
    "        edges.add((child, v))\n",
    "        build(child)\n",
    "  build(root)\n",
    "  return nodes, edges\n",
    "\n",
    "def draw_dot(root):\n",
    "  dot = Digraph(format='svg', graph_attr={'rankdir': 'LR'}) # LR = left to right\n",
    "  \n",
    "  nodes, edges = trace(root)\n",
    "  for n in nodes:\n",
    "    uid = str(id(n))\n",
    "    # for any value in the graph, create a rectangular ('record') node for it\n",
    "    dot.node(name = uid, label = \"{%s | data %.4f | grad %.4f}\" % (n.label, n.data, n.grad), shape='record')\n",
    "    if n._op:\n",
    "      # if this value is a result of some operation, create an op node for it\n",
    "      dot.node(name = uid + n._op, label = n._op)\n",
    "      # and connect this node to it\n",
    "      dot.edge(uid + n._op, uid)\n",
    "\n",
    "  for n1, n2 in edges:\n",
    "    # connect n1 to the op node of n2\n",
    "    dot.edge(str(id(n1)), str(id(n2)) + n2._op)\n",
    "\n",
    "  return dot"
   ]
  },
  {
   "cell_type": "code",
   "execution_count": 138,
   "id": "a09b9c80-e346-4cea-8ff9-8760ca8d0fc1",
   "metadata": {},
   "outputs": [
    {
     "data": {
      "image/svg+xml": [
       "<?xml version=\"1.0\" encoding=\"UTF-8\" standalone=\"no\"?>\n",
       "<!DOCTYPE svg PUBLIC \"-//W3C//DTD SVG 1.1//EN\"\n",
       " \"http://www.w3.org/Graphics/SVG/1.1/DTD/svg11.dtd\">\n",
       "<!-- Generated by graphviz version 13.1.2 (20250808.2320)\n",
       " -->\n",
       "<!-- Pages: 1 -->\n",
       "<svg width=\"822pt\" height=\"128pt\"\n",
       " viewBox=\"0.00 0.00 822.00 128.00\" xmlns=\"http://www.w3.org/2000/svg\" xmlns:xlink=\"http://www.w3.org/1999/xlink\">\n",
       "<g id=\"graph0\" class=\"graph\" transform=\"scale(1 1) rotate(0) translate(4 124)\">\n",
       "<polygon fill=\"white\" stroke=\"none\" points=\"-4,4 -4,-124 817.75,-124 817.75,4 -4,4\"/>\n",
       "<!-- 4609255024 -->\n",
       "<g id=\"node1\" class=\"node\">\n",
       "<title>4609255024</title>\n",
       "<polygon fill=\"none\" stroke=\"black\" points=\"2.62,-83.5 2.62,-119.5 185.62,-119.5 185.62,-83.5 2.62,-83.5\"/>\n",
       "<text xml:space=\"preserve\" text-anchor=\"middle\" x=\"13.62\" y=\"-96.7\" font-family=\"Times,serif\" font-size=\"14.00\">a</text>\n",
       "<polyline fill=\"none\" stroke=\"black\" points=\"24.62,-84 24.62,-119.5\"/>\n",
       "<text xml:space=\"preserve\" text-anchor=\"middle\" x=\"64.5\" y=\"-96.7\" font-family=\"Times,serif\" font-size=\"14.00\">data 2.0000</text>\n",
       "<polyline fill=\"none\" stroke=\"black\" points=\"104.38,-84 104.38,-119.5\"/>\n",
       "<text xml:space=\"preserve\" text-anchor=\"middle\" x=\"145\" y=\"-96.7\" font-family=\"Times,serif\" font-size=\"14.00\">grad 0.0000</text>\n",
       "</g>\n",
       "<!-- 4609541312* -->\n",
       "<g id=\"node3\" class=\"node\">\n",
       "<title>4609541312*</title>\n",
       "<ellipse fill=\"none\" stroke=\"black\" cx=\"251.25\" cy=\"-73.5\" rx=\"27\" ry=\"18\"/>\n",
       "<text xml:space=\"preserve\" text-anchor=\"middle\" x=\"251.25\" y=\"-68.45\" font-family=\"Times,serif\" font-size=\"14.00\">*</text>\n",
       "</g>\n",
       "<!-- 4609255024&#45;&gt;4609541312* -->\n",
       "<g id=\"edge6\" class=\"edge\">\n",
       "<title>4609255024&#45;&gt;4609541312*</title>\n",
       "<path fill=\"none\" stroke=\"black\" d=\"M185.81,-85.13C195.66,-83.35 205.21,-81.63 213.82,-80.08\"/>\n",
       "<polygon fill=\"black\" stroke=\"black\" points=\"214.19,-83.57 223.41,-78.34 212.95,-76.68 214.19,-83.57\"/>\n",
       "</g>\n",
       "<!-- 4609541312 -->\n",
       "<g id=\"node2\" class=\"node\">\n",
       "<title>4609541312</title>\n",
       "<polygon fill=\"none\" stroke=\"black\" points=\"315.38,-55.5 315.38,-91.5 502.88,-91.5 502.88,-55.5 315.38,-55.5\"/>\n",
       "<text xml:space=\"preserve\" text-anchor=\"middle\" x=\"326.38\" y=\"-68.7\" font-family=\"Times,serif\" font-size=\"14.00\">e</text>\n",
       "<polyline fill=\"none\" stroke=\"black\" points=\"337.38,-56 337.38,-91.5\"/>\n",
       "<text xml:space=\"preserve\" text-anchor=\"middle\" x=\"379.5\" y=\"-68.7\" font-family=\"Times,serif\" font-size=\"14.00\">data &#45;6.0000</text>\n",
       "<polyline fill=\"none\" stroke=\"black\" points=\"421.62,-56 421.62,-91.5\"/>\n",
       "<text xml:space=\"preserve\" text-anchor=\"middle\" x=\"462.25\" y=\"-68.7\" font-family=\"Times,serif\" font-size=\"14.00\">grad 0.0000</text>\n",
       "</g>\n",
       "<!-- 4609776560+ -->\n",
       "<g id=\"node6\" class=\"node\">\n",
       "<title>4609776560+</title>\n",
       "<ellipse fill=\"none\" stroke=\"black\" cx=\"567\" cy=\"-45.5\" rx=\"27\" ry=\"18\"/>\n",
       "<text xml:space=\"preserve\" text-anchor=\"middle\" x=\"567\" y=\"-40.45\" font-family=\"Times,serif\" font-size=\"14.00\">+</text>\n",
       "</g>\n",
       "<!-- 4609541312&#45;&gt;4609776560+ -->\n",
       "<g id=\"edge4\" class=\"edge\">\n",
       "<title>4609541312&#45;&gt;4609776560+</title>\n",
       "<path fill=\"none\" stroke=\"black\" d=\"M503.05,-56.81C512.25,-55.16 521.16,-53.56 529.24,-52.1\"/>\n",
       "<polygon fill=\"black\" stroke=\"black\" points=\"529.71,-55.58 538.93,-50.36 528.47,-48.69 529.71,-55.58\"/>\n",
       "</g>\n",
       "<!-- 4609541312*&#45;&gt;4609541312 -->\n",
       "<g id=\"edge1\" class=\"edge\">\n",
       "<title>4609541312*&#45;&gt;4609541312</title>\n",
       "<path fill=\"none\" stroke=\"black\" d=\"M278.69,-73.5C286.1,-73.5 294.64,-73.5 303.71,-73.5\"/>\n",
       "<polygon fill=\"black\" stroke=\"black\" points=\"303.51,-77 313.51,-73.5 303.51,-70 303.51,-77\"/>\n",
       "</g>\n",
       "<!-- 4609256176 -->\n",
       "<g id=\"node4\" class=\"node\">\n",
       "<title>4609256176</title>\n",
       "<polygon fill=\"none\" stroke=\"black\" points=\"0,-28.5 0,-64.5 188.25,-64.5 188.25,-28.5 0,-28.5\"/>\n",
       "<text xml:space=\"preserve\" text-anchor=\"middle\" x=\"11.38\" y=\"-41.7\" font-family=\"Times,serif\" font-size=\"14.00\">b</text>\n",
       "<polyline fill=\"none\" stroke=\"black\" points=\"22.75,-29 22.75,-64.5\"/>\n",
       "<text xml:space=\"preserve\" text-anchor=\"middle\" x=\"64.88\" y=\"-41.7\" font-family=\"Times,serif\" font-size=\"14.00\">data &#45;3.0000</text>\n",
       "<polyline fill=\"none\" stroke=\"black\" points=\"107,-29 107,-64.5\"/>\n",
       "<text xml:space=\"preserve\" text-anchor=\"middle\" x=\"147.62\" y=\"-41.7\" font-family=\"Times,serif\" font-size=\"14.00\">grad 0.0000</text>\n",
       "</g>\n",
       "<!-- 4609256176&#45;&gt;4609541312* -->\n",
       "<g id=\"edge5\" class=\"edge\">\n",
       "<title>4609256176&#45;&gt;4609541312*</title>\n",
       "<path fill=\"none\" stroke=\"black\" d=\"M188.49,-62.75C197.27,-64.28 205.77,-65.76 213.51,-67.1\"/>\n",
       "<polygon fill=\"black\" stroke=\"black\" points=\"212.66,-70.51 223.11,-68.78 213.86,-63.61 212.66,-70.51\"/>\n",
       "</g>\n",
       "<!-- 4609776560 -->\n",
       "<g id=\"node5\" class=\"node\">\n",
       "<title>4609776560</title>\n",
       "<polygon fill=\"none\" stroke=\"black\" points=\"630,-27.5 630,-63.5 813.75,-63.5 813.75,-27.5 630,-27.5\"/>\n",
       "<text xml:space=\"preserve\" text-anchor=\"middle\" x=\"641.38\" y=\"-40.7\" font-family=\"Times,serif\" font-size=\"14.00\">d</text>\n",
       "<polyline fill=\"none\" stroke=\"black\" points=\"652.75,-28 652.75,-63.5\"/>\n",
       "<text xml:space=\"preserve\" text-anchor=\"middle\" x=\"692.62\" y=\"-40.7\" font-family=\"Times,serif\" font-size=\"14.00\">data 4.0000</text>\n",
       "<polyline fill=\"none\" stroke=\"black\" points=\"732.5,-28 732.5,-63.5\"/>\n",
       "<text xml:space=\"preserve\" text-anchor=\"middle\" x=\"773.12\" y=\"-40.7\" font-family=\"Times,serif\" font-size=\"14.00\">grad 0.0000</text>\n",
       "</g>\n",
       "<!-- 4609776560+&#45;&gt;4609776560 -->\n",
       "<g id=\"edge2\" class=\"edge\">\n",
       "<title>4609776560+&#45;&gt;4609776560</title>\n",
       "<path fill=\"none\" stroke=\"black\" d=\"M594.28,-45.5C601.42,-45.5 609.61,-45.5 618.32,-45.5\"/>\n",
       "<polygon fill=\"black\" stroke=\"black\" points=\"618.06,-49 628.06,-45.5 618.06,-42 618.06,-49\"/>\n",
       "</g>\n",
       "<!-- 4609542608 -->\n",
       "<g id=\"node7\" class=\"node\">\n",
       "<title>4609542608</title>\n",
       "<polygon fill=\"none\" stroke=\"black\" points=\"314.25,-0.5 314.25,-36.5 504,-36.5 504,-0.5 314.25,-0.5\"/>\n",
       "<text xml:space=\"preserve\" text-anchor=\"middle\" x=\"325.25\" y=\"-13.7\" font-family=\"Times,serif\" font-size=\"14.00\">c</text>\n",
       "<polyline fill=\"none\" stroke=\"black\" points=\"336.25,-1 336.25,-36.5\"/>\n",
       "<text xml:space=\"preserve\" text-anchor=\"middle\" x=\"379.5\" y=\"-13.7\" font-family=\"Times,serif\" font-size=\"14.00\">data 10.0000</text>\n",
       "<polyline fill=\"none\" stroke=\"black\" points=\"422.75,-1 422.75,-36.5\"/>\n",
       "<text xml:space=\"preserve\" text-anchor=\"middle\" x=\"463.38\" y=\"-13.7\" font-family=\"Times,serif\" font-size=\"14.00\">grad 0.0000</text>\n",
       "</g>\n",
       "<!-- 4609542608&#45;&gt;4609776560+ -->\n",
       "<g id=\"edge3\" class=\"edge\">\n",
       "<title>4609542608&#45;&gt;4609776560+</title>\n",
       "<path fill=\"none\" stroke=\"black\" d=\"M504.39,-34.83C513.16,-36.35 521.65,-37.82 529.37,-39.15\"/>\n",
       "<polygon fill=\"black\" stroke=\"black\" points=\"528.5,-42.56 538.95,-40.81 529.69,-35.66 528.5,-42.56\"/>\n",
       "</g>\n",
       "</g>\n",
       "</svg>\n"
      ],
      "text/plain": [
       "<graphviz.graphs.Digraph at 0x112bba910>"
      ]
     },
     "execution_count": 138,
     "metadata": {},
     "output_type": "execute_result"
    }
   ],
   "source": [
    "draw_dot(d)"
   ]
  },
  {
   "cell_type": "code",
   "execution_count": 145,
   "id": "1207131b-a160-4242-bcc7-78b621f880da",
   "metadata": {},
   "outputs": [
    {
     "data": {
      "image/svg+xml": [
       "<?xml version=\"1.0\" encoding=\"UTF-8\" standalone=\"no\"?>\n",
       "<!DOCTYPE svg PUBLIC \"-//W3C//DTD SVG 1.1//EN\"\n",
       " \"http://www.w3.org/Graphics/SVG/1.1/DTD/svg11.dtd\">\n",
       "<!-- Generated by graphviz version 13.1.2 (20250808.2320)\n",
       " -->\n",
       "<!-- Pages: 1 -->\n",
       "<svg width=\"1140pt\" height=\"154pt\"\n",
       " viewBox=\"0.00 0.00 1140.00 154.00\" xmlns=\"http://www.w3.org/2000/svg\" xmlns:xlink=\"http://www.w3.org/1999/xlink\">\n",
       "<g id=\"graph0\" class=\"graph\" transform=\"scale(1 1) rotate(0) translate(4 150)\">\n",
       "<polygon fill=\"white\" stroke=\"none\" points=\"-4,4 -4,-150 1135.75,-150 1135.75,4 -4,4\"/>\n",
       "<!-- 4610115664 -->\n",
       "<g id=\"node1\" class=\"node\">\n",
       "<title>4610115664</title>\n",
       "<polygon fill=\"none\" stroke=\"black\" points=\"630,-109.5 630,-145.5 816,-145.5 816,-109.5 630,-109.5\"/>\n",
       "<text xml:space=\"preserve\" text-anchor=\"middle\" x=\"640.25\" y=\"-122.7\" font-family=\"Times,serif\" font-size=\"14.00\">f</text>\n",
       "<polyline fill=\"none\" stroke=\"black\" points=\"650.5,-110 650.5,-145.5\"/>\n",
       "<text xml:space=\"preserve\" text-anchor=\"middle\" x=\"692.62\" y=\"-122.7\" font-family=\"Times,serif\" font-size=\"14.00\">data &#45;2.0000</text>\n",
       "<polyline fill=\"none\" stroke=\"black\" points=\"734.75,-110 734.75,-145.5\"/>\n",
       "<text xml:space=\"preserve\" text-anchor=\"middle\" x=\"775.38\" y=\"-122.7\" font-family=\"Times,serif\" font-size=\"14.00\">grad 0.0000</text>\n",
       "</g>\n",
       "<!-- 4610116000* -->\n",
       "<g id=\"node8\" class=\"node\">\n",
       "<title>4610116000*</title>\n",
       "<ellipse fill=\"none\" stroke=\"black\" cx=\"879\" cy=\"-99.5\" rx=\"27\" ry=\"18\"/>\n",
       "<text xml:space=\"preserve\" text-anchor=\"middle\" x=\"879\" y=\"-94.45\" font-family=\"Times,serif\" font-size=\"14.00\">*</text>\n",
       "</g>\n",
       "<!-- 4610115664&#45;&gt;4610116000* -->\n",
       "<g id=\"edge8\" class=\"edge\">\n",
       "<title>4610115664&#45;&gt;4610116000*</title>\n",
       "<path fill=\"none\" stroke=\"black\" d=\"M816.25,-110.73C825.1,-109.12 833.67,-107.56 841.46,-106.14\"/>\n",
       "<polygon fill=\"black\" stroke=\"black\" points=\"841.93,-109.62 851.15,-104.38 840.68,-102.73 841.93,-109.62\"/>\n",
       "</g>\n",
       "<!-- 4610117248 -->\n",
       "<g id=\"node2\" class=\"node\">\n",
       "<title>4610117248</title>\n",
       "<polygon fill=\"none\" stroke=\"black\" points=\"314.25,-82.5 314.25,-118.5 504,-118.5 504,-82.5 314.25,-82.5\"/>\n",
       "<text xml:space=\"preserve\" text-anchor=\"middle\" x=\"325.25\" y=\"-95.7\" font-family=\"Times,serif\" font-size=\"14.00\">c</text>\n",
       "<polyline fill=\"none\" stroke=\"black\" points=\"336.25,-83 336.25,-118.5\"/>\n",
       "<text xml:space=\"preserve\" text-anchor=\"middle\" x=\"379.5\" y=\"-95.7\" font-family=\"Times,serif\" font-size=\"14.00\">data 10.0000</text>\n",
       "<polyline fill=\"none\" stroke=\"black\" points=\"422.75,-83 422.75,-118.5\"/>\n",
       "<text xml:space=\"preserve\" text-anchor=\"middle\" x=\"463.38\" y=\"-95.7\" font-family=\"Times,serif\" font-size=\"14.00\">grad 0.0000</text>\n",
       "</g>\n",
       "<!-- 4609777040+ -->\n",
       "<g id=\"node6\" class=\"node\">\n",
       "<title>4609777040+</title>\n",
       "<ellipse fill=\"none\" stroke=\"black\" cx=\"567\" cy=\"-72.5\" rx=\"27\" ry=\"18\"/>\n",
       "<text xml:space=\"preserve\" text-anchor=\"middle\" x=\"567\" y=\"-67.45\" font-family=\"Times,serif\" font-size=\"14.00\">+</text>\n",
       "</g>\n",
       "<!-- 4610117248&#45;&gt;4609777040+ -->\n",
       "<g id=\"edge5\" class=\"edge\">\n",
       "<title>4610117248&#45;&gt;4609777040+</title>\n",
       "<path fill=\"none\" stroke=\"black\" d=\"M504.39,-83.57C513.16,-81.99 521.65,-80.47 529.37,-79.08\"/>\n",
       "<polygon fill=\"black\" stroke=\"black\" points=\"529.73,-82.57 538.95,-77.36 528.49,-75.68 529.73,-82.57\"/>\n",
       "</g>\n",
       "<!-- 4610117344 -->\n",
       "<g id=\"node3\" class=\"node\">\n",
       "<title>4610117344</title>\n",
       "<polygon fill=\"none\" stroke=\"black\" points=\"0,-55.5 0,-91.5 188.25,-91.5 188.25,-55.5 0,-55.5\"/>\n",
       "<text xml:space=\"preserve\" text-anchor=\"middle\" x=\"11.38\" y=\"-68.7\" font-family=\"Times,serif\" font-size=\"14.00\">b</text>\n",
       "<polyline fill=\"none\" stroke=\"black\" points=\"22.75,-56 22.75,-91.5\"/>\n",
       "<text xml:space=\"preserve\" text-anchor=\"middle\" x=\"64.88\" y=\"-68.7\" font-family=\"Times,serif\" font-size=\"14.00\">data &#45;3.0000</text>\n",
       "<polyline fill=\"none\" stroke=\"black\" points=\"107,-56 107,-91.5\"/>\n",
       "<text xml:space=\"preserve\" text-anchor=\"middle\" x=\"147.62\" y=\"-68.7\" font-family=\"Times,serif\" font-size=\"14.00\">grad 0.0000</text>\n",
       "</g>\n",
       "<!-- 4610114512* -->\n",
       "<g id=\"node10\" class=\"node\">\n",
       "<title>4610114512*</title>\n",
       "<ellipse fill=\"none\" stroke=\"black\" cx=\"251.25\" cy=\"-45.5\" rx=\"27\" ry=\"18\"/>\n",
       "<text xml:space=\"preserve\" text-anchor=\"middle\" x=\"251.25\" y=\"-40.45\" font-family=\"Times,serif\" font-size=\"14.00\">*</text>\n",
       "</g>\n",
       "<!-- 4610117344&#45;&gt;4610114512* -->\n",
       "<g id=\"edge7\" class=\"edge\">\n",
       "<title>4610117344&#45;&gt;4610114512*</title>\n",
       "<path fill=\"none\" stroke=\"black\" d=\"M188.49,-56.65C197.36,-55.05 205.93,-53.5 213.73,-52.09\"/>\n",
       "<polygon fill=\"black\" stroke=\"black\" points=\"214.2,-55.56 223.42,-50.34 212.95,-48.68 214.2,-55.56\"/>\n",
       "</g>\n",
       "<!-- 4610117392 -->\n",
       "<g id=\"node4\" class=\"node\">\n",
       "<title>4610117392</title>\n",
       "<polygon fill=\"none\" stroke=\"black\" points=\"2.62,-0.5 2.62,-36.5 185.62,-36.5 185.62,-0.5 2.62,-0.5\"/>\n",
       "<text xml:space=\"preserve\" text-anchor=\"middle\" x=\"13.62\" y=\"-13.7\" font-family=\"Times,serif\" font-size=\"14.00\">a</text>\n",
       "<polyline fill=\"none\" stroke=\"black\" points=\"24.62,-1 24.62,-36.5\"/>\n",
       "<text xml:space=\"preserve\" text-anchor=\"middle\" x=\"64.5\" y=\"-13.7\" font-family=\"Times,serif\" font-size=\"14.00\">data 2.0000</text>\n",
       "<polyline fill=\"none\" stroke=\"black\" points=\"104.38,-1 104.38,-36.5\"/>\n",
       "<text xml:space=\"preserve\" text-anchor=\"middle\" x=\"145\" y=\"-13.7\" font-family=\"Times,serif\" font-size=\"14.00\">grad 0.0000</text>\n",
       "</g>\n",
       "<!-- 4610117392&#45;&gt;4610114512* -->\n",
       "<g id=\"edge6\" class=\"edge\">\n",
       "<title>4610117392&#45;&gt;4610114512*</title>\n",
       "<path fill=\"none\" stroke=\"black\" d=\"M185.81,-34.28C195.45,-35.96 204.82,-37.59 213.29,-39.07\"/>\n",
       "<polygon fill=\"black\" stroke=\"black\" points=\"212.65,-42.51 223.1,-40.77 213.85,-35.61 212.65,-42.51\"/>\n",
       "</g>\n",
       "<!-- 4609777040 -->\n",
       "<g id=\"node5\" class=\"node\">\n",
       "<title>4609777040</title>\n",
       "<polygon fill=\"none\" stroke=\"black\" points=\"631.12,-54.5 631.12,-90.5 814.88,-90.5 814.88,-54.5 631.12,-54.5\"/>\n",
       "<text xml:space=\"preserve\" text-anchor=\"middle\" x=\"642.5\" y=\"-67.7\" font-family=\"Times,serif\" font-size=\"14.00\">d</text>\n",
       "<polyline fill=\"none\" stroke=\"black\" points=\"653.88,-55 653.88,-90.5\"/>\n",
       "<text xml:space=\"preserve\" text-anchor=\"middle\" x=\"693.75\" y=\"-67.7\" font-family=\"Times,serif\" font-size=\"14.00\">data 4.0000</text>\n",
       "<polyline fill=\"none\" stroke=\"black\" points=\"733.62,-55 733.62,-90.5\"/>\n",
       "<text xml:space=\"preserve\" text-anchor=\"middle\" x=\"774.25\" y=\"-67.7\" font-family=\"Times,serif\" font-size=\"14.00\">grad 0.0000</text>\n",
       "</g>\n",
       "<!-- 4609777040&#45;&gt;4610116000* -->\n",
       "<g id=\"edge9\" class=\"edge\">\n",
       "<title>4609777040&#45;&gt;4610116000*</title>\n",
       "<path fill=\"none\" stroke=\"black\" d=\"M815.36,-88.52C824.5,-90.12 833.36,-91.67 841.4,-93.08\"/>\n",
       "<polygon fill=\"black\" stroke=\"black\" points=\"840.58,-96.49 851.04,-94.77 841.79,-89.6 840.58,-96.49\"/>\n",
       "</g>\n",
       "<!-- 4609777040+&#45;&gt;4609777040 -->\n",
       "<g id=\"edge1\" class=\"edge\">\n",
       "<title>4609777040+&#45;&gt;4609777040</title>\n",
       "<path fill=\"none\" stroke=\"black\" d=\"M594.47,-72.5C601.87,-72.5 610.38,-72.5 619.43,-72.5\"/>\n",
       "<polygon fill=\"black\" stroke=\"black\" points=\"619.17,-76 629.17,-72.5 619.17,-69 619.17,-76\"/>\n",
       "</g>\n",
       "<!-- 4610116000 -->\n",
       "<g id=\"node7\" class=\"node\">\n",
       "<title>4610116000</title>\n",
       "<polygon fill=\"none\" stroke=\"black\" points=\"942,-81.5 942,-117.5 1131.75,-117.5 1131.75,-81.5 942,-81.5\"/>\n",
       "<text xml:space=\"preserve\" text-anchor=\"middle\" x=\"954.12\" y=\"-94.7\" font-family=\"Times,serif\" font-size=\"14.00\">L</text>\n",
       "<polyline fill=\"none\" stroke=\"black\" points=\"966.25,-82 966.25,-117.5\"/>\n",
       "<text xml:space=\"preserve\" text-anchor=\"middle\" x=\"1008.38\" y=\"-94.7\" font-family=\"Times,serif\" font-size=\"14.00\">data &#45;8.0000</text>\n",
       "<polyline fill=\"none\" stroke=\"black\" points=\"1050.5,-82 1050.5,-117.5\"/>\n",
       "<text xml:space=\"preserve\" text-anchor=\"middle\" x=\"1091.12\" y=\"-94.7\" font-family=\"Times,serif\" font-size=\"14.00\">grad 0.0000</text>\n",
       "</g>\n",
       "<!-- 4610116000*&#45;&gt;4610116000 -->\n",
       "<g id=\"edge2\" class=\"edge\">\n",
       "<title>4610116000*&#45;&gt;4610116000</title>\n",
       "<path fill=\"none\" stroke=\"black\" d=\"M906.44,-99.5C913.59,-99.5 921.78,-99.5 930.49,-99.5\"/>\n",
       "<polygon fill=\"black\" stroke=\"black\" points=\"930.26,-103 940.26,-99.5 930.26,-96 930.26,-103\"/>\n",
       "</g>\n",
       "<!-- 4610114512 -->\n",
       "<g id=\"node9\" class=\"node\">\n",
       "<title>4610114512</title>\n",
       "<polygon fill=\"none\" stroke=\"black\" points=\"315.38,-27.5 315.38,-63.5 502.88,-63.5 502.88,-27.5 315.38,-27.5\"/>\n",
       "<text xml:space=\"preserve\" text-anchor=\"middle\" x=\"326.38\" y=\"-40.7\" font-family=\"Times,serif\" font-size=\"14.00\">e</text>\n",
       "<polyline fill=\"none\" stroke=\"black\" points=\"337.38,-28 337.38,-63.5\"/>\n",
       "<text xml:space=\"preserve\" text-anchor=\"middle\" x=\"379.5\" y=\"-40.7\" font-family=\"Times,serif\" font-size=\"14.00\">data &#45;6.0000</text>\n",
       "<polyline fill=\"none\" stroke=\"black\" points=\"421.62,-28 421.62,-63.5\"/>\n",
       "<text xml:space=\"preserve\" text-anchor=\"middle\" x=\"462.25\" y=\"-40.7\" font-family=\"Times,serif\" font-size=\"14.00\">grad 0.0000</text>\n",
       "</g>\n",
       "<!-- 4610114512&#45;&gt;4609777040+ -->\n",
       "<g id=\"edge4\" class=\"edge\">\n",
       "<title>4610114512&#45;&gt;4609777040+</title>\n",
       "<path fill=\"none\" stroke=\"black\" d=\"M503.05,-61.6C512.25,-63.19 521.16,-64.73 529.24,-66.13\"/>\n",
       "<polygon fill=\"black\" stroke=\"black\" points=\"528.48,-69.55 538.93,-67.81 529.68,-62.66 528.48,-69.55\"/>\n",
       "</g>\n",
       "<!-- 4610114512*&#45;&gt;4610114512 -->\n",
       "<g id=\"edge3\" class=\"edge\">\n",
       "<title>4610114512*&#45;&gt;4610114512</title>\n",
       "<path fill=\"none\" stroke=\"black\" d=\"M278.69,-45.5C286.1,-45.5 294.64,-45.5 303.71,-45.5\"/>\n",
       "<polygon fill=\"black\" stroke=\"black\" points=\"303.51,-49 313.51,-45.5 303.51,-42 303.51,-49\"/>\n",
       "</g>\n",
       "</g>\n",
       "</svg>\n"
      ],
      "text/plain": [
       "<graphviz.graphs.Digraph at 0x112c06be0>"
      ]
     },
     "execution_count": 145,
     "metadata": {},
     "output_type": "execute_result"
    }
   ],
   "source": [
    "draw_dot(L)"
   ]
  },
  {
   "cell_type": "code",
   "execution_count": 134,
   "id": "994fa367-5e8f-4d5a-be17-7a7ee7d90249",
   "metadata": {},
   "outputs": [],
   "source": [
    "# so far able to \n",
    "# 1. build mathmetical expression use * and +, scalar values, \n",
    "# 2. graph it as this forward pass, multi inputs: a, b, c, f, \n",
    "# the output of this forward pass is -8 \n",
    "# now run backpropegation manually, start with L, reverse, \n",
    "# calculate the gradient along all these interdiate values; \n",
    "# computer the derivative of each node with respect to L \n",
    "\n",
    "# the derivative of L with repect to L is => dL/dL = (L2-L1)/h = (f(x+h)-f(x))/h = (L+h)- L /h = 1 => when L increase 1, L will change +1\n",
    "# the derivative of L with repect to f is => dL/df = (L2-L1)/h = (d*(f+h) - d*f)/h = d = 4 => when f increase 1, L will change +4 \n",
    "# the derivative of L with repect to d is => dL/dd = (L2-L1)/h = ((d+h)*f - d*f)/h = f = -2 => when d increase 1, L will change -2 \n",
    "# the derivative of L with repect to c is => dL/dc = (dL/dd) * (dd/dc) = -2 * 1 = -2, => when c increase 1, L will change -2\n",
    "# dd/dc = (d2 - d1)/h = (((c+h) + e)- (c+e)) / h = 1\n",
    "# the derivative of L with repect to e is => dL/de = dL/dd * dd/de = -2 * 1 = -2, => when e increase 1, L will change -2\n",
    "# dd/de = (d2 - d1)/h = ((c+(e+h)) - (c+e)) / h = 1\n",
    "# the derivative of L with repect to a is => dL/da = dL/dd * dd/de * de/da = -2 * 1 * -3 = 6 => when a increase 1, L will change +6\n",
    "# de/da = (e2 - e1) / h = ((a+h)*b - a*b) / h = b = -3\n",
    "# the derivative of L with repect to b is => dL/db = dL/dd * dd/de * de/db = -2 * 1 * 2 = -4 => when b increase 1, L will change -4 \n",
    "# de/db = (e2 - e1) / h = (a*(b+h) - a*b) / h = a = 2\n",
    "\n",
    "# these are local derivative, f and d is one step away from L \n",
    "# dL/df\n",
    "# dL/dd\n",
    "\n",
    "# c and e impact d then impact L, c and e is more than one step away from L, how to write the impact of c on L? Chain Rule \n",
    "# dL/dc\n",
    "# dL/de\n",
    "\n",
    "# if cars travels twice as fast as bicycle,\n",
    "# bicycle is four times as fast as walking man\n",
    "# the car travels ? times as fast as the walking man?\n",
    "\n",
    "# c = 2b, c/b = 2\n",
    "# b = 4m, b/m = 4\n",
    "# so \n",
    "# X = c/m = (c/b) * (b/m) = 2 * 4 = 8\n"
   ]
  },
  {
   "cell_type": "code",
   "execution_count": null,
   "id": "d1cddbe5-99dc-4a32-9c7f-a716c25a9cb2",
   "metadata": {},
   "outputs": [],
   "source": [
    "# create a variable to represent the derivate of Loss function with repect to that Value, which we name is as gradient(grad)\n",
    "# updated Class Value, added self.grad = 0.0, by default, nodes has no impact on the loss function "
   ]
  },
  {
   "cell_type": "code",
   "execution_count": 159,
   "id": "a9273739-69e5-4527-819d-f6d19528db70",
   "metadata": {},
   "outputs": [
    {
     "name": "stdout",
     "output_type": "stream",
     "text": [
      "0.0\n"
     ]
    }
   ],
   "source": [
    "# create a gating function, to avoid pullute or mess up global scope, create a little staging area, in python, make all vars to be local var to the LOL function \n",
    "def lol():\n",
    "    h = 0.001\n",
    "    \n",
    "    a = Value(2.0, label = 'a') \n",
    "    b = Value(-3.0, label = 'b')\n",
    "    c = Value(10.0, label = 'c')\n",
    "    e = a*b; e.label = 'e'\n",
    "    d = e + c; d.label = 'd'\n",
    "    f = Value(-2.0); f.label = 'f'\n",
    "    L = d * f; L.label = 'L'\n",
    "\n",
    "    L1 = L.data\n",
    "\n",
    "    a = Value(2.0, label = 'a')\n",
    "    # a = Value(2.0 + h, label = 'a')  # a increase 0.001\n",
    "    b = Value(-3.0, label = 'b')  # b increase 0.001\n",
    "    c = Value(10.0, label = 'c')  # c increase 0.001\n",
    "    e = a*b; e.label = 'e'\n",
    "    # e.data += h\n",
    "    d = e + c; d.label = 'd'\n",
    "    # d.data += h\n",
    "    f = Value(-2.0); f.label = 'f'  # f increase 0.001\n",
    "    L = d * f; L.label = 'L'\n",
    "\n",
    "    L2 = L.data\n",
    "\n",
    "    # print out derivative of L with repect of each node\n",
    "    print ((L2 - L1 ) / h)  \n",
    "\n",
    "    # numerically verify devrivative of L with repect of each node, inline gradient check, \n",
    "    # deriving derivative of L with repect of all intermediate results  \n",
    "    # numerical gradiant is just estimate it using small step size:\n",
    "    # nudging node by h, see what happens to L \n",
    "    \n",
    "    # dL/dL = 1.000000000000334, when h = 0.001; dL/dL = 0.9999999999976694, when h = 0.0001\n",
    "    # dL/da = 6.000000000000227, when h = 0.001;\n",
    "    # dL/db = -3.9999999999995595, when h = 0.001; \n",
    "    # dL/dc = -1.9999999999988916, when h = 0.001;\n",
    "    # dL/dd = -2.000000000000668, when h = 0.001;\n",
    "    # dL/de = -2.000000000000668, when h = 0.001;\n",
    "    # dL/df = 3.9999999999995595, when h = 0.001;\n",
    "\n",
    "lol()"
   ]
  },
  {
   "cell_type": "code",
   "execution_count": 161,
   "id": "8c1928e4-2097-46a7-adc0-78885ca1bf1c",
   "metadata": {},
   "outputs": [],
   "source": [
    "# manually update each Value object with Grad number \n",
    "a.grad = 6.0\n",
    "b.grad = -4.0\n",
    "c.grad = -2.0\n",
    "d.grad = -2.0\n",
    "e.grad = -2.0\n",
    "f.grad = 4.0\n",
    "\n",
    "# manual back propergation all the way from L to leaf nodes: a and b \n",
    "# we just iterate through all the nodes, one by one, and locally apply the chain rule, \n",
    "# we always know what the derivate of L with repect of this little output, we look at how this output is produced, \n",
    "# this output was produced through some operation, and we have the points to these childern nodes of this operation\n",
    "# in this operation, we know the local derivates are, and we just multiply them, onto the derivative always, \n",
    "\n",
    "# back propergation is: recrusively multiply on the local derivatives => recursively application of chain rule, \n",
    "# backwards through the computation graph"
   ]
  },
  {
   "cell_type": "code",
   "execution_count": 166,
   "id": "aeea68d6-8cef-4c19-88c5-e60dad9adb43",
   "metadata": {},
   "outputs": [
    {
     "name": "stdout",
     "output_type": "stream",
     "text": [
      "-4.572000000000001\n"
     ]
    }
   ],
   "source": [
    "# lets see the power of back propergation \n",
    "# we want to make L go up, how can we nudge our inputs?\n",
    "\n",
    "# intuitively, a should increase, b should decrease, c, d, e all decrease, f increase \n",
    "\n",
    "# how to use mathmetically language to reperesent our intuition?\n",
    "# a.data = a.data + 0.01\n",
    "# b.data = b.data - 0.01\n",
    "# c.data = c.data - 0.01\n",
    "\n",
    "\n",
    "# generalize this into: (we pick node a, b, c, f, because they are leaf node, we usually have control over them )\n",
    "a.data += 0.01*(a.grad)\n",
    "b.data += 0.01*(b.grad)\n",
    "c.data += 0.01*(c.grad)\n",
    "f.data += 0.01*(f.grad)\n",
    "\n",
    "e = a*b; \n",
    "d = e + c; \n",
    "L = d*f\n",
    "print(L.data)"
   ]
  },
  {
   "cell_type": "code",
   "execution_count": null,
   "id": "56886b39-7a62-4aa4-a7c7-774431fc8a3b",
   "metadata": {},
   "outputs": [],
   "source": []
  },
  {
   "cell_type": "code",
   "execution_count": 174,
   "id": "4e1c25e4-7b5d-47bd-8788-0dc05ad4f4c1",
   "metadata": {},
   "outputs": [
    {
     "data": {
      "image/png": "[encoded data removed]",
      "text/plain": [
       "<Figure size 640x480 with 1 Axes>"
      ]
     },
     "metadata": {},
     "output_type": "display_data"
    }
   ],
   "source": [
    "# back propergate through a neuron\n",
    "\n",
    "# neuron networks, in the simplest case, these are multilateral perceptrons, diff layer, neurons are fully connected to each other \n",
    "# biologically neurons are very complicated devices, but we have very simple mathematical models of them. \n",
    "\n",
    "# some inputs axis(X0), then synapses that has weights on them(W0), \n",
    "# the synapse interact with the input to this neuron multiplicatively \n",
    "# so what flows to the cell body of this neuron is W0 * X0\n",
    "\n",
    "# b is the innate of trigger happiness of this neuron, \n",
    "# so this bias can make it a bit more trigger happy, or a bit less trigger happy, regardless of the input \n",
    "\n",
    "# take all the w and b into activation function, some sort of squashig function, like sigmod, tanh \n",
    "\n",
    "\n",
    "plt.plot(np.arange(-5, 5, 0.2), np.arange(-5, 5, 0.2)); plt.grid()"
   ]
  },
  {
   "cell_type": "code",
   "execution_count": 180,
   "id": "3c902597-32a1-4617-ad9a-a82deb10f5e8",
   "metadata": {},
   "outputs": [
    {
     "data": {
      "image/png": "[encoded data removed]",
      "text/plain": [
       "<Figure size 640x480 with 1 Axes>"
      ]
     },
     "metadata": {},
     "output_type": "display_data"
    }
   ],
   "source": [
    "plt.plot(np.arange(-5, 5, 0.2), np.tanh(np.arange(-5,5, 0.2))); plt.grid()\n",
    "\n",
    "# tanh activation function: \n",
    "\n",
    "# the same input x, y get sqaushed\n",
    "# at 0 we get 0\n",
    "# as input go more positive, y will only go up to 1, and then plateau out, cap the result of the function smoothly to 1\n",
    "# as input go negative, y get cap smoothly to -1\n"
   ]
  },
  {
   "cell_type": "code",
   "execution_count": 177,
   "id": "63ea583d-b78c-46f3-8b51-c5b12c9a3b93",
   "metadata": {
    "collapsed": true,
    "jupyter": {
     "outputs_hidden": true,
     "source_hidden": true
    }
   },
   "outputs": [
    {
     "data": {
      "image/png": "[encoded data removed]",
      "text/plain": [
       "<Figure size 640x480 with 1 Axes>"
      ]
     },
     "metadata": {},
     "output_type": "display_data"
    }
   ],
   "source": [
    "# play with plt.plot \n",
    "y = np.arange(-5, 5, 0.2)\n",
    "plt.plot(y); \n",
    "plt.grid()"
   ]
  },
  {
   "cell_type": "code",
   "execution_count": null,
   "id": "9f7a5371-8aeb-4afa-bf8a-b8ffe1a18f39",
   "metadata": {},
   "outputs": [],
   "source": []
  }
 ],
 "metadata": {
  "kernelspec": {
   "display_name": "Python 3 (ipykernel)",
   "language": "python",
   "name": "python3"
  },
  "language_info": {
   "codemirror_mode": {
    "name": "ipython",
    "version": 3
   },
   "file_extension": ".py",
   "mimetype": "text/x-python",
   "name": "python",
   "nbconvert_exporter": "python",
   "pygments_lexer": "ipython3",
   "version": "3.9.6"
  }
 },
 "nbformat": 4,
 "nbformat_minor": 5
}
